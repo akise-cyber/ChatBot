{
  "nbformat": 4,
  "nbformat_minor": 0,
  "metadata": {
    "colab": {
      "name": "ChatBot.ipynb",
      "provenance": []
    },
    "kernelspec": {
      "name": "python3",
      "display_name": "Python 3"
    },
    "language_info": {
      "name": "python"
    }
  },
  "cells": [
    {
      "cell_type": "code",
      "metadata": {
        "id": "E5rBkFkS1U3b"
      },
      "source": [
        "!pip install chatterbot\n",
        "!pip install chatterbot_corpus\n"
      ],
      "execution_count": null,
      "outputs": []
    },
    {
      "cell_type": "code",
      "metadata": {
        "id": "8-FJwPen1Zhz"
      },
      "source": [
        "from chatterbot import ChatBot\n",
        "from chatterbot.trainers import ListTrainer\n",
        "from chatterbot.trainers import ChatterBotCorpusTrainer\n",
        "\n",
        "bot = ChatBot('Jamilton')\n",
        "bot = ChatBot(\n",
        "    'Jamilton',\n",
        "    storage_adapter='chatterbot.storage.SQLStorageAdapter',\n",
        "    database_uri='sqlite:///database.sqlite3'\n",
        "    )\n",
        "    \n",
        "conversa = ListTrainer(bot)\n",
        "conversa.train([\n",
        "   'Oi',\n",
        "   'Olá',\n",
        "   'Qual seu nome?',\n",
        "   'Jamilton',\n",
        "   'Prazer',\n",
        "   'O prazer é todo meu',\n",
        "   'Estou com um problema',\n",
        "   'Em que posso ajudar?',\n",
        "   'Quantos anos você tem?',\n",
        "   'Tenho 1 dia de existência',\n",
        "   'Tenho que ir',\n",
        "   'Tudo bem, volte sempre',\n",
        "   'KKKK',\n",
        "   'Ri não safado',\n",
        "])\n",
        "\n",
        "trainer = ChatterBotCorpusTrainer(bot)\n",
        "trainer.train('chatterbot.corpus.portuguese')"
      ],
      "execution_count": null,
      "outputs": []
    },
    {
      "cell_type": "code",
      "metadata": {
        "id": "XzkOETIY1dUW"
      },
      "source": [
        "while True:\n",
        "  resposta = bot.get_response(input(\"Usuário: \"))\n",
        "  if float(resposta.confidence) > 0.5:\n",
        "      print(\"Jamilton: \", resposta)\n",
        "  else:\n",
        "      print(\"Desculpe, eu não entendi!\")"
      ],
      "execution_count": null,
      "outputs": []
    }
  ]
}